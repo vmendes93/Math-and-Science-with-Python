{
 "cells": [
  {
   "cell_type": "markdown",
   "metadata": {},
   "source": [
    "# Python Basics\n",
    "\n",
    "## Lesson Goal\n",
    "This lesson is optional. If you already know how to write in Python go right ahead and skip it to the first real lesson. Here I'l l show you some really simple and basic concepts of Python, some of its peculiarities, and what does it  do as a programming language. I'll keep it brief, simple, and won't got into epth about any of the subjects.\n",
    "\n",
    "## Lesson Materials\n",
    "Make sure to have ```Python``` with the ```pip``` manager installed and we are good to go. If you need a refresher, there's a step-by-step tutorial for each system on the course [guide](/home/vmendes/Documentos/Coding Projects/python_math/README.md). I'd also suggest taking notes - either on notepad on your computer, Google, or with old-school pen and paper. Taking notes helps you memorizing and creating the neural paths linked to learning a new skill.\n",
    "\n",
    "## Extra Material\n",
    "If you want to learn more about Python in detail, I'd suggest Al Sweigart's book [Automating the Boring Stuff With Python](https://automatetheboringstuff.com/), you can read it for free online, under a Creative Commons license; the book also has an [Udemy](https://www.udemy.com/course/automate/) course which is dirt cheap. If I recall correctly, buying the book's second edition ebook, the Udemy course comes bundled together with it."
   ]
  },
  {
   "cell_type": "markdown",
   "metadata": {},
   "source": [
    "### What is Python, after all?\n",
    "Python is a interpreted, high-level, general-purpose, dynamically-typed, garbage-collected, multi-paradigmn, computer programming language. What's that? You didn't get all that tech mumbo-jumbo? Great, because I didn't as well when I started learning. So, to begin, let's explain Python as simply as we can:\n",
    "\n",
    "Python is a programming language made to be simple and to be used in any manner of applications possible - data science, backend programmin, frontend programming, creating web applications, you name it. Of course, it performs better in some areas than others - particularly, it's great at data science and data anlysis, and not so great at frontend development.\n",
    "\n",
    "Another great feature of Python is its *garbage collector*. To put it simply, it means that we don't have to worry about memory allocation, the language *interpreter* does this for us. What is an interpreter, by the way? Again, simplifying here: imagine that the interface between you and you computer is the language you're writing instructions - Python, C, Java, Ruby, etc - these can beinterpreted or compiled. Compiled languages read all the instructions at once and send them to the computer to execute; this is advantageous in terms of speed and memory saving, and can be a problem when debugging. In the other hand, compiled languages give the computer instructions piece by piece, as you instruct it. The pros are the ease of debugging and auto memory management; however, interpreted languages' code can sometimes suffer with execution problems and they consume much more memory than a compiler. This [video](https://www.youtube.com/watch?v=e4ax90XmUBc) does a better job at explaining that than I do - check it out if you want a better, more detailed explanation.\n",
    "\n",
    "Finally, the *multi-paradigm* part. Briefly, there are three schools of thought when programing:\n",
    "    \n",
    "* Procedural Porgramming - you program line by line as you go, also called imperative programming\n",
    "* Functional Programming - you create programs based on functions, and function modules, and execute them withing said functions, sometimes recursively.\n",
    "* Object Oriented Programming - you create classes of objects and program using their intereaction; objects are programatic abstractions of real life concepts and objects.\n",
    "\n",
    "Python can handle well any of those three paradigms. We will probably be doing predominantly procedural and functional, but we may dip our toes into OOP, I won't making any promises.\n",
    "\n",
    "For short, Python is a *jack of all trades* language. It excels in external package support and that's why it's so versatile. Want to plot a graph but it's too hard to do that natively with Python? No worries - we install ```matplotlib``` using ```pip``` and ```import``` the package through this very same command. Easy as that.\n",
    "\n",
    "Without further ado, let's learn that in practice:"
   ]
  },
  {
   "cell_type": "markdown",
   "metadata": {},
   "source": [
    "### Basic Jupyter Notebook commands:\n",
    "\n",
    "Jupyter works by executing pieces of code as cells. Here's how you can interact with them:\n",
    "* Mouse over to highlight and left click to select a cell\n",
    "* ENTER you can start writing on the cell; ESC you exit the cell\n",
    "* \"b\" to create a new cell below\n",
    "* \"a\" to create a new cell above\n",
    "* \"dd\" (very quickly) to delete a cell\n",
    "* SHIFT + ENTER to run a cell\n",
    "* ALT + ENTER to run a cell and create a cell below\n",
    "* CRTL + z: undo ; CTRL + SHIFT + z: redo\n",
    "* While highlighting a cell, you can press \"m\" to change it to *markdown* type, press \"y\" to change it to *code* mode.\n",
    "\n",
    "These are the most important ones; I forget these commandas often enough that I keep a cheatsheet handy. Here's [one](https://towardsdatascience.com/jypyter-notebook-shortcuts-bf0101a98330) for you to use, just in case.\n",
    "\n"
   ]
  },
  {
   "cell_type": "markdown",
   "metadata": {},
   "source": [
    "## Numerical Expressions\n",
    "\n",
    "You can basically write down any numerical expressions directly. Python executes lines left to write, and top to bottom, line-be-line.\n",
    "The operator symbols are:\n",
    "\n",
    "* ```+``` $\\rightarrow$ sum\n",
    "* ```-``` $\\rightarrow$ subtraction\n",
    "* ```*``` $\\rightarrow$ multiplication\n",
    "* ```/``` $\\rightarrow$ total division\n",
    "* ```//``` $\\rightarrow$ floor division\n",
    "* ```%``` $\\rightarrow$ modulus division\n",
    "* ```**``` $\\rightarrow$ for exponentials\n",
    "Let's see an example:"
   ]
  },
  {
   "cell_type": "code",
   "execution_count": 1,
   "metadata": {},
   "outputs": [
    {
     "data": {
      "text/plain": [
       "2498"
      ]
     },
     "execution_count": 1,
     "metadata": {},
     "output_type": "execute_result"
    }
   ],
   "source": [
    "3 + 4 * 5 ** 4 - (8 - 3)"
   ]
  },
  {
   "cell_type": "code",
   "execution_count": 2,
   "metadata": {},
   "outputs": [
    {
     "data": {
      "text/plain": [
       "2.2"
      ]
     },
     "execution_count": 2,
     "metadata": {},
     "output_type": "execute_result"
    }
   ],
   "source": [
    "5 + 2 - 6 * 4 / 5"
   ]
  },
  {
   "cell_type": "markdown",
   "metadata": {},
   "source": [
    "As we can see, Python follows a **PEMDAS** order of operations:\n",
    "\n",
    "- P – Parentheses\n",
    "- E – Exponentiation\n",
    "- M – Multiplication\n",
    "- D – Division\n",
    "- A – Addition\n",
    "- S – Subtraction"
   ]
  },
  {
   "cell_type": "markdown",
   "metadata": {},
   "source": [
    "Python alo suses logical operators, such as:\n",
    "\n",
    "-  ```>``` $\\rightarrow$ Greater than\n",
    "-  ```>=``` $\\rightarrow$ Greater or equal to \n",
    "-  ```<``` $\\rightarrow$ Less than \n",
    "-  ```<=``` $\\rightarrow$ Less or equal to \n",
    "-  ```==``` $\\rightarrow$ Equal to \n",
    "-  ```!= ``` $\\rightarrow$ Not equal to"
   ]
  },
  {
   "cell_type": "markdown",
   "metadata": {},
   "source": [
    "Instead of returning a number, they return a ```bool``` (from boolean) value - these can be ```True``` or ```False```:"
   ]
  },
  {
   "cell_type": "code",
   "execution_count": 3,
   "metadata": {},
   "outputs": [
    {
     "name": "stdout",
     "output_type": "stream",
     "text": [
      "False\n",
      "True\n",
      "False\n",
      "True\n"
     ]
    }
   ],
   "source": [
    "print(4 > 5)\n",
    "print(5 < 7)\n",
    "print(8 == 0)\n",
    "print(3 != 4)"
   ]
  },
  {
   "cell_type": "markdown",
   "metadata": {},
   "source": [
    "As you saw it, whenever we want to show more than one result in the Jpuyter cell, we nee to put it into the ```print()``` function. This is the most common function in Python, and it prints a ```string``` that you pass as argument. More on that later."
   ]
  },
  {
   "cell_type": "markdown",
   "metadata": {},
   "source": [
    "## Comments"
   ]
  },
  {
   "cell_type": "code",
   "execution_count": 31,
   "metadata": {},
   "outputs": [
    {
     "data": {
      "text/plain": [
       "\"\\nStart with three simple quotation marks, write whatever you want and then close with another triple quotation marks.\\nThese are useul for long observations and to describe functions and classes. We probably won't use these so much, but it's good to know.\\n\""
      ]
     },
     "execution_count": 31,
     "metadata": {},
     "output_type": "execute_result"
    }
   ],
   "source": [
    "# This is a comment, start it by puttin a # at the beginning\n",
    "# Add this whevener you need to explain something or add an observation into your code\n",
    "# Nothing after the # will be read as code\n",
    "# If you need to write a bigger comment, use the docstring type of comment as follows:\n",
    "\n",
    "'''\n",
    "Start with three simple quotation marks, write whatever you want and then close with another triple quotation marks.\n",
    "These are useul for long observations and to describe functions and classes. We probably won't use these so much, but it's good to know.\n",
    "'''"
   ]
  },
  {
   "cell_type": "markdown",
   "metadata": {},
   "source": [
    "## Variables\n",
    "\n",
    "The symbol ```==```, written that way, with double marks, represents equality between things. However, we only use it as a logical operator. The symbol ```=``` is used to declare **variables**. Variables are a little bit different than in math - we are not solving for x here, not yet at least; think abouyt variables in Python (and in basically any other computer language) as small boxes where you store something: a value, a function, a data structure, anything that a programming language supports. Think about putting stuff into boxes and labling said boxes with names."
   ]
  },
  {
   "cell_type": "markdown",
   "metadata": {},
   "source": [
    "<figure>\n",
    "    <img src=\"project_images/boxes.png\" style=\"width:60%%\"/>\n",
    "    <figcaption>Visualizing how variables work in progamming languages</figcaption>\n",
    "</figure>"
   ]
  },
  {
   "cell_type": "markdown",
   "metadata": {},
   "source": [
    "As said before, you can store anything you want and that a language supports in a variable. Python has the following kinds of **Data Types**:\n",
    "\n",
    "- Text type:\n",
    "    - ```str```\n",
    "\n",
    "- Numeric type:\n",
    "    - ```int``` for interger numbers\n",
    "    - ```float``` for real numbers\n",
    "    - ```complex``` for complex numbers\n",
    "\n",
    "- Boolean type:\n",
    "    - ```bool``` for ```True``` or ```False``` values\n",
    "\n",
    "- Sequence types:\n",
    "    - ```list``` for lists\n",
    "    - ```tuple``` for tuples\n",
    "\n",
    "- Mapping type\n",
    "    -```dict``` for dictionaries\n",
    "\n",
    "We won't be touching on dictionaries for now and there's a spacial data type called an *array* that we will see when dealing with the ```numpy```library."
   ]
  },
  {
   "cell_type": "markdown",
   "metadata": {},
   "source": [
    "#### Let's see some examples of variable operations:"
   ]
  },
  {
   "cell_type": "markdown",
   "metadata": {},
   "source": [
    "Let's create some variables:"
   ]
  },
  {
   "cell_type": "code",
   "execution_count": 12,
   "metadata": {},
   "outputs": [],
   "source": [
    "a = 10\n",
    "b = 5\n",
    "c = 3.14\n",
    "d = 4 + 2j\n",
    "e = True\n",
    "f = 99"
   ]
  },
  {
   "cell_type": "markdown",
   "metadata": {},
   "source": [
    "We can change the value of a varible by simplying equating it to anothe value:"
   ]
  },
  {
   "cell_type": "code",
   "execution_count": null,
   "metadata": {},
   "outputs": [
    {
     "data": {
      "text/plain": [
       "5"
      ]
     },
     "execution_count": 10,
     "metadata": {},
     "output_type": "execute_result"
    }
   ],
   "source": [
    "a = 5\n",
    "\n",
    "a"
   ]
  },
  {
   "cell_type": "markdown",
   "metadata": {},
   "source": [
    "Or equating it to another variable:"
   ]
  },
  {
   "cell_type": "code",
   "execution_count": 14,
   "metadata": {},
   "outputs": [
    {
     "data": {
      "text/plain": [
       "99"
      ]
     },
     "execution_count": 14,
     "metadata": {},
     "output_type": "execute_result"
    }
   ],
   "source": [
    "c = f\n",
    "\n",
    "c"
   ]
  },
  {
   "cell_type": "markdown",
   "metadata": {},
   "source": [
    "We can also perate directly between variables, since they're just representations of the values we stored in memory:"
   ]
  },
  {
   "cell_type": "code",
   "execution_count": 17,
   "metadata": {},
   "outputs": [
    {
     "name": "stdout",
     "output_type": "stream",
     "text": [
      "50\n",
      "104\n",
      "1.0\n",
      "9801\n"
     ]
    }
   ],
   "source": [
    "print(a * b)\n",
    "print(c + b)\n",
    "print(a / a)\n",
    "print(f ** 2)"
   ]
  },
  {
   "cell_type": "markdown",
   "metadata": {},
   "source": [
    "Using the ```type()``` function, we can check that variable's type:"
   ]
  },
  {
   "cell_type": "code",
   "execution_count": 15,
   "metadata": {},
   "outputs": [
    {
     "data": {
      "text/plain": [
       "int"
      ]
     },
     "execution_count": 15,
     "metadata": {},
     "output_type": "execute_result"
    }
   ],
   "source": [
    "type(c)"
   ]
  },
  {
   "cell_type": "markdown",
   "metadata": {},
   "source": [
    "Another important feature is that we can operate with ```str``` type variables. We can do ```+``` and ```*```. To create a string, you can put any characters between simple ```'``` or double ```\"``` quotes, even numbers, but they won't be ```int``` or ```float``` types - you can think as a number in a ```str``` format as yourself writing the name \"five\" instead of the value of 5. Let's see some examples:"
   ]
  },
  {
   "cell_type": "code",
   "execution_count": 18,
   "metadata": {},
   "outputs": [],
   "source": [
    "spam = 'ham'\n",
    "bacon = 'eggs'\n",
    "toast = 'beans'\n",
    "ni = '5'\n"
   ]
  },
  {
   "cell_type": "code",
   "execution_count": 20,
   "metadata": {},
   "outputs": [
    {
     "data": {
      "text/plain": [
       "'hameggs'"
      ]
     },
     "execution_count": 20,
     "metadata": {},
     "output_type": "execute_result"
    }
   ],
   "source": [
    "spam + bacon"
   ]
  },
  {
   "cell_type": "code",
   "execution_count": 21,
   "metadata": {},
   "outputs": [
    {
     "data": {
      "text/plain": [
       "'55555'"
      ]
     },
     "execution_count": 21,
     "metadata": {},
     "output_type": "execute_result"
    }
   ],
   "source": [
    "ni * 5"
   ]
  },
  {
   "cell_type": "code",
   "execution_count": 24,
   "metadata": {},
   "outputs": [
    {
     "data": {
      "text/plain": [
       "'beansbeansbeansbeansbeansbeansbeansbeansbeansbeansbeansbeansbeansbeansbeansbeansbeansbeansbeansbeansbeansbeansbeansbeansbeansbeansbeansbeansbeansbeansbeansbeansbeansbeansbeansbeansbeansbeansbeansbeansbeansbeansbeansbeansbeansbeansbeansbeansbeansbeansbeansbeansbeansbeansbeansbeansbeansbeansbeansbeansbeansbeansbeansbeansbeansbeansbeansbeansbeansbeansbeansbeansbeansbeansbeansbeansbeansbeansbeansbeansbeansbeansbeansbeansbeansbeansbeansbeansbeansbeansbeansbeansbeansbeansbeansbeansbeansbeansbeansbeans'"
      ]
     },
     "execution_count": 24,
     "metadata": {},
     "output_type": "execute_result"
    }
   ],
   "source": [
    "toast * 100"
   ]
  },
  {
   "cell_type": "code",
   "execution_count": 28,
   "metadata": {},
   "outputs": [
    {
     "data": {
      "text/plain": [
       "'hamhamhamhamhameggs'"
      ]
     },
     "execution_count": 28,
     "metadata": {},
     "output_type": "execute_result"
    }
   ],
   "source": [
    "spam * b + bacon"
   ]
  },
  {
   "cell_type": "markdown",
   "metadata": {},
   "source": [
    "Mixing two different data types, such as ```str``` and ```float``` types raises an error:"
   ]
  },
  {
   "cell_type": "code",
   "execution_count": 29,
   "metadata": {},
   "outputs": [
    {
     "ename": "TypeError",
     "evalue": "can only concatenate str (not \"int\") to str",
     "output_type": "error",
     "traceback": [
      "\u001b[0;31m---------------------------------------------------------------------------\u001b[0m",
      "\u001b[0;31mTypeError\u001b[0m                                 Traceback (most recent call last)",
      "\u001b[1;32m/home/vmendes/Documentos/Coding Projects/python_math/python_basics.ipynb Cell 33'\u001b[0m in \u001b[0;36m<module>\u001b[0;34m\u001b[0m\n\u001b[0;32m----> <a href='vscode-notebook-cell:/home/vmendes/Documentos/Coding%20Projects/python_math/python_basics.ipynb#ch0000037?line=0'>1</a>\u001b[0m spam \u001b[39m+\u001b[39;49m \u001b[39m4\u001b[39;49m\n",
      "\u001b[0;31mTypeError\u001b[0m: can only concatenate str (not \"int\") to str"
     ]
    }
   ],
   "source": [
    "spam + 4"
   ]
  },
  {
   "cell_type": "markdown",
   "metadata": {},
   "source": [
    "Same thing if you forget to close the ```str``` - in this case, it's a syntax error:"
   ]
  },
  {
   "cell_type": "code",
   "execution_count": 30,
   "metadata": {},
   "outputs": [
    {
     "ename": "SyntaxError",
     "evalue": "unterminated string literal (detected at line 1) (1555805337.py, line 1)",
     "output_type": "error",
     "traceback": [
      "\u001b[0;36m  Input \u001b[0;32mIn [30]\u001b[0;36m\u001b[0m\n\u001b[0;31m    foo = 'bar\u001b[0m\n\u001b[0m          ^\u001b[0m\n\u001b[0;31mSyntaxError\u001b[0m\u001b[0;31m:\u001b[0m unterminated string literal (detected at line 1)\n"
     ]
    }
   ],
   "source": [
    "foo = 'bar"
   ]
  },
  {
   "cell_type": "markdown",
   "metadata": {},
   "source": [
    "Don't worry about mistakes - the interpreter returns what kind of mistake you made and where it's located. For ```Python 3.10```, it even suggests what kind of mistakes you probably made and corrections. Mistakers are a part of learning - if you're not making any mistakes, you're either a genious or a clairvoyant.\n",
    "Jokes aside, you **WILL** make an oopsie here and there while programming, but don't worry, even senior software engineers make them on a daily basis."
   ]
  },
  {
   "cell_type": "markdown",
   "metadata": {},
   "source": [
    "## Lists, Tuples, Dictionaries, and Arrays\n",
    "\n",
    "These three data types are what we call *collections* of data, because they can store more than one element, or variables. Here are their charcteristics:"
   ]
  },
  {
   "cell_type": "markdown",
   "metadata": {},
   "source": [
    "\n",
    "##### Lists\n",
    "\n",
    "A list is an *ordered* and *changeable* collection of elements. It can recieve any type of element, from a ```float``` to a ```bool```, and even another list. It's *ordered* because every element has an index, starting from the number 0 for the first element, and *changeable* because you can add, remove, append, and slice the list as much as you want. For now, it's useful to know that they exist and how to create a list. They'll be important later on when dealing with vectors and matrices for linear algebra, and we may go more in depth and do a refresher about lists then."
   ]
  },
  {
   "cell_type": "code",
   "execution_count": 32,
   "metadata": {},
   "outputs": [],
   "source": [
    "# Initializing a list\n",
    "my_first_list = [1, 2, 3.14, 4.20, 'five', a, ['a', 'b', 'c']]"
   ]
  },
  {
   "cell_type": "code",
   "execution_count": 34,
   "metadata": {},
   "outputs": [
    {
     "data": {
      "text/plain": [
       "1"
      ]
     },
     "execution_count": 34,
     "metadata": {},
     "output_type": "execute_result"
    }
   ],
   "source": [
    "# Getting the first element. Keep in mind, it starts at 0\n",
    "my_first_list[0]"
   ]
  },
  {
   "cell_type": "code",
   "execution_count": 39,
   "metadata": {},
   "outputs": [
    {
     "data": {
      "text/plain": [
       "'five'"
      ]
     },
     "execution_count": 39,
     "metadata": {},
     "output_type": "execute_result"
    }
   ],
   "source": [
    "my_first_list[4]"
   ]
  },
  {
   "cell_type": "code",
   "execution_count": 38,
   "metadata": {},
   "outputs": [
    {
     "data": {
      "text/plain": [
       "'b'"
      ]
     },
     "execution_count": 38,
     "metadata": {},
     "output_type": "execute_result"
    }
   ],
   "source": [
    "# Accessing an element of a list inside our list. Neat, huh?\n",
    "my_first_list[6][1]"
   ]
  },
  {
   "cell_type": "code",
   "execution_count": 40,
   "metadata": {},
   "outputs": [
    {
     "data": {
      "text/plain": [
       "[1, 2]"
      ]
     },
     "execution_count": 40,
     "metadata": {},
     "output_type": "execute_result"
    }
   ],
   "source": [
    "# Slicing the string to just get some elements. \n",
    "my_first_list[0:2]"
   ]
  },
  {
   "cell_type": "code",
   "execution_count": 48,
   "metadata": {},
   "outputs": [
    {
     "data": {
      "text/plain": [
       "[1, 2, 3.14, 4.2, 'five', 10, ['a', 'b', 'c'], 'mozarella']"
      ]
     },
     "execution_count": 48,
     "metadata": {},
     "output_type": "execute_result"
    }
   ],
   "source": [
    "# Adding an element to a list with the .append() method\n",
    "# Whenever you use this method you put the element at the end of the list\n",
    "pizza = 'mozarella'\n",
    "my_first_list.append(pizza)\n",
    "\n",
    "my_first_list"
   ]
  },
  {
   "cell_type": "markdown",
   "metadata": {},
   "source": [
    "Look closely, you'll see that the third element of the list does not go to the solution. This is a quirk of the syntax - [0:2] means \"go from the first element up to the second\"; so remember this when slicing lists or any other sliceable element in Python."
   ]
  },
  {
   "cell_type": "markdown",
   "metadata": {},
   "source": [
    "##### Tuples\n",
    "\n",
    "Tuples are exactly like lists but they aren't *changeable*, in other words, they are an *immutable* element. They exist because their memory allocation is more efficient than lists, so if you need to read a fized size set of elements, it's better to choose tuples. Otherwise, they function basically the same as lists. Oh, to differentiate the two, instad of using square brackets [] as we use on lists, we use parenthesis () for tuples:"
   ]
  },
  {
   "cell_type": "code",
   "execution_count": 41,
   "metadata": {},
   "outputs": [],
   "source": [
    "# Initializing a tuple\n",
    "my_first_tuple = (1, 2, 3.14, 4.20, 'five', a, ['a', 'b', 'c'])"
   ]
  },
  {
   "cell_type": "code",
   "execution_count": 44,
   "metadata": {},
   "outputs": [
    {
     "data": {
      "text/plain": [
       "1"
      ]
     },
     "execution_count": 44,
     "metadata": {},
     "output_type": "execute_result"
    }
   ],
   "source": [
    "# Getting the first element. Again it starts at 0\n",
    "my_first_tuple[0]"
   ]
  },
  {
   "cell_type": "code",
   "execution_count": 46,
   "metadata": {},
   "outputs": [
    {
     "data": {
      "text/plain": [
       "'b'"
      ]
     },
     "execution_count": 46,
     "metadata": {},
     "output_type": "execute_result"
    }
   ],
   "source": [
    "# Same neat thing we did on lists\n",
    "my_first_list[6][1]"
   ]
  },
  {
   "cell_type": "code",
   "execution_count": 47,
   "metadata": {},
   "outputs": [
    {
     "data": {
      "text/plain": [
       "(1, 2)"
      ]
     },
     "execution_count": 47,
     "metadata": {},
     "output_type": "execute_result"
    }
   ],
   "source": [
    "# We can slice tuples, as long as we don't change them\n",
    "my_first_tuple[0:2]"
   ]
  },
  {
   "cell_type": "code",
   "execution_count": 49,
   "metadata": {},
   "outputs": [
    {
     "ename": "AttributeError",
     "evalue": "'tuple' object has no attribute 'append'",
     "output_type": "error",
     "traceback": [
      "\u001b[0;31m---------------------------------------------------------------------------\u001b[0m",
      "\u001b[0;31mAttributeError\u001b[0m                            Traceback (most recent call last)",
      "\u001b[1;32m/home/vmendes/Documentos/Coding Projects/python_math/python_basics.ipynb Cell 53'\u001b[0m in \u001b[0;36m<module>\u001b[0;34m\u001b[0m\n\u001b[1;32m      <a href='vscode-notebook-cell:/home/vmendes/Documentos/Coding%20Projects/python_math/python_basics.ipynb#ch0000059?line=0'>1</a>\u001b[0m \u001b[39m# If we try to change our tuple, we get an error, since it's an immutable element\u001b[39;00m\n\u001b[1;32m      <a href='vscode-notebook-cell:/home/vmendes/Documentos/Coding%20Projects/python_math/python_basics.ipynb#ch0000059?line=2'>3</a>\u001b[0m pizza \u001b[39m=\u001b[39m \u001b[39m'\u001b[39m\u001b[39mmozarella\u001b[39m\u001b[39m'\u001b[39m\n\u001b[0;32m----> <a href='vscode-notebook-cell:/home/vmendes/Documentos/Coding%20Projects/python_math/python_basics.ipynb#ch0000059?line=3'>4</a>\u001b[0m my_first_tuple\u001b[39m.\u001b[39;49mappend(pizza)\n\u001b[1;32m      <a href='vscode-notebook-cell:/home/vmendes/Documentos/Coding%20Projects/python_math/python_basics.ipynb#ch0000059?line=5'>6</a>\u001b[0m my_first_tuple\n",
      "\u001b[0;31mAttributeError\u001b[0m: 'tuple' object has no attribute 'append'"
     ]
    }
   ],
   "source": [
    "# If we try to change our tuple, we get an error, since it's an immutable element\n",
    "\n",
    "pizza = 'mozarella'\n",
    "my_first_tuple.append(pizza)\n",
    "\n",
    "my_first_tuple"
   ]
  },
  {
   "cell_type": "markdown",
   "metadata": {},
   "source": [
    "##### Dictionaries\n",
    "\n",
    "Dictionaries are a data container that is *unordered* and *mutable* that stores mappings of unique keys to values. Just like a (shocker) dictionary IRL. They are an easy solution to store and access data rather easily, if compared to other structures. I'm not sure if we'll see dictionaries along the course studies, but, as always, it's good to know what are them:"
   ]
  },
  {
   "cell_type": "code",
   "execution_count": 5,
   "metadata": {},
   "outputs": [],
   "source": [
    "# Creating a dictionary\n",
    "student_info = {\n",
    "    \"ID\": 118922, \n",
    "    \"Name\": \"Xerxes\", \n",
    "    \"DOB\": 1993, \n",
    "    \"Institute\": \"Geosciences Institute\", \n",
    "    \"Favorite Food\": \"Fried Chicken\"\n",
    "}"
   ]
  },
  {
   "cell_type": "code",
   "execution_count": 6,
   "metadata": {},
   "outputs": [
    {
     "name": "stdout",
     "output_type": "stream",
     "text": [
      "118922\n",
      "Xerxes\n"
     ]
    }
   ],
   "source": [
    "# Accessing data\n",
    "print(merriam_webster[\"ID\"])\n",
    "print(student_info[\"Name\"])"
   ]
  },
  {
   "cell_type": "code",
   "execution_count": 8,
   "metadata": {},
   "outputs": [
    {
     "data": {
      "text/plain": [
       "'new_value'"
      ]
     },
     "execution_count": 8,
     "metadata": {},
     "output_type": "execute_result"
    }
   ],
   "source": [
    "# Adding data to the dictionary\n",
    "student_info[\"New_key\"] = \"new_value\"\n",
    "student_info[\"New_key\"]"
   ]
  },
  {
   "cell_type": "markdown",
   "metadata": {},
   "source": [
    "Easy right?\n",
    "There's really nothing more to it now, if we happen to need anything more regarding dicitonaries, we'll do a refresher before. But, as you can see, dictionaries are like the \"embryo\" of working with data in Python, all steming from the implications that you can use dictionaries as the value of a key-value pair."
   ]
  },
  {
   "cell_type": "markdown",
   "metadata": {},
   "source": [
    "##### Arrays\n",
    "\n",
    "Arrays are similar to lists but they usually only recieve numbers and numbers only. They work like vectors in data analysis, and we can't really make an array with the built-in Python functions. We have to import the ```numpy``` library, and use its functions to create them. So, we'll kill to birds with one stone (sorry birds): we'll see how to import<sup>1</sup> packages and how to create an array:\n",
    "\n"
   ]
  },
  {
   "cell_type": "code",
   "execution_count": 9,
   "metadata": {},
   "outputs": [
    {
     "data": {
      "text/plain": [
       "array([ 1,  2,  3,  4,  5,  6,  7,  8,  9, 10])"
      ]
     },
     "execution_count": 9,
     "metadata": {},
     "output_type": "execute_result"
    }
   ],
   "source": [
    "# Importing the package and giving it an alias\n",
    "# An alias is important as to not write the name of tha package every time as you write its functions\n",
    "import numpy as np\n",
    "\n",
    "a1 = np.array([1, 2, 3, 4, 5, 6, 7, 8, 9, 10])\n",
    "\n",
    "a1"
   ]
  },
  {
   "cell_type": "markdown",
   "metadata": {},
   "source": [
    "We can do the same things as we did before (operations, slicing, etc):"
   ]
  },
  {
   "cell_type": "code",
   "execution_count": 10,
   "metadata": {},
   "outputs": [
    {
     "data": {
      "text/plain": [
       "array([1.        , 0.5       , 0.33333333, 0.25      , 0.2       ,\n",
       "       0.16666667, 0.14285714, 0.125     , 0.11111111, 0.1       ])"
      ]
     },
     "execution_count": 10,
     "metadata": {},
     "output_type": "execute_result"
    }
   ],
   "source": [
    "1/a1"
   ]
  },
  {
   "cell_type": "code",
   "execution_count": 11,
   "metadata": {},
   "outputs": [
    {
     "data": {
      "text/plain": [
       "array([ 2,  4,  6,  8, 10, 12, 14, 16, 18, 20])"
      ]
     },
     "execution_count": 11,
     "metadata": {},
     "output_type": "execute_result"
    }
   ],
   "source": [
    "a1 * 2"
   ]
  },
  {
   "cell_type": "code",
   "execution_count": 12,
   "metadata": {},
   "outputs": [
    {
     "data": {
      "text/plain": [
       "array([  1,   4,   9,  16,  25,  36,  49,  64,  81, 100])"
      ]
     },
     "execution_count": 12,
     "metadata": {},
     "output_type": "execute_result"
    }
   ],
   "source": [
    "a1 ** 2"
   ]
  },
  {
   "cell_type": "code",
   "execution_count": 13,
   "metadata": {},
   "outputs": [
    {
     "data": {
      "text/plain": [
       "1"
      ]
     },
     "execution_count": 13,
     "metadata": {},
     "output_type": "execute_result"
    }
   ],
   "source": [
    "a1[0]"
   ]
  },
  {
   "cell_type": "code",
   "execution_count": 14,
   "metadata": {},
   "outputs": [
    {
     "data": {
      "text/plain": [
       "array([3, 4, 5])"
      ]
     },
     "execution_count": 14,
     "metadata": {},
     "output_type": "execute_result"
    }
   ],
   "source": [
    "a1[2:5]"
   ]
  },
  {
   "cell_type": "markdown",
   "metadata": {},
   "source": [
    "## Plotting\n",
    "\n",
    "Finally, we'll just step a little into plotting graphs - something we inveitably and certainly will do along the math and science lessons.\n",
    "In my experience, I like to plot with an external library - especialy ```matplotlib```. I really don't remember, neither do I think there is, a built-in Python plotting library. It doesn't matter, really, because matplotlib covers basically everything possible that we can do, so, that's great.\n",
    "Let's see some plotting examples:"
   ]
  },
  {
   "cell_type": "code",
   "execution_count": 15,
   "metadata": {},
   "outputs": [],
   "source": [
    "# Importing matplotlib\n",
    "import matplotlib.pyplot as plt\n",
    "\n",
    "# Creating the variables\n",
    "x = np.linspace(0, 1, 100) # I'm basically creating a pseudorandom array of numbers going from 0 to 1 in 100 steps\n",
    "y = x ** 2"
   ]
  },
  {
   "cell_type": "code",
   "execution_count": 19,
   "metadata": {},
   "outputs": [
    {
     "data": {
      "text/plain": [
       "Text(0.5, 1.0, 'Exponential curve f(x²)')"
      ]
     },
     "execution_count": 19,
     "metadata": {},
     "output_type": "execute_result"
    },
    {
     "data": {
      "image/png": "[encoded data removed]",
      "text/plain": [
       "<Figure size 432x288 with 1 Axes>"
      ]
     },
     "metadata": {
      "needs_background": "light"
     },
     "output_type": "display_data"
    }
   ],
   "source": [
    "# Creating the plot\n",
    "plt.plot(x, y)\n",
    "\n",
    "plt.xlabel('x') # Chosing the name of the X axis\n",
    "plt.ylabel('y') # Chosing the name of the Y axis\n",
    "plt.title('Exponential curve f(x²)') # Chosing a title\n"
   ]
  },
  {
   "cell_type": "markdown",
   "metadata": {},
   "source": [
    "Neat, huh? I wish I was this savvy with programming during college, it would've saved me a lot of time and, honestly, plotting on MS Excel makes me wanna puke. Sorry Excel, you suck.\n"
   ]
  },
  {
   "cell_type": "markdown",
   "metadata": {},
   "source": [
    "## Final Thoughts\n",
    "\n",
    "Python is an awesome, and versatile programming language. It can help you with the simplest calculations to the hardest data-driven analysis... and we pretty much covered all of its basics! Isn't this awesome?\n",
    "Actually, there a few little things that I intentionally left, such as loops and conditional statements. They are really useful and important but, as we are going to work mostly with procedural and simple, brief statements along with sympy, we aren't in imediate need to tackle tose. [Here](https://www.geeksforgeeks.org/loops-in-python/) are some extra materials talking about loops in Python, and [this](https://www.w3schools.com/python/python_conditions.asp) extra material talks about conditional statements.\n",
    "\n",
    "If the need to use such tools rises, I'll certainly release a pre-class appendix going through them."
   ]
  },
  {
   "cell_type": "markdown",
   "metadata": {},
   "source": [
    "## References\n",
    "\n",
    "Sweigart, A. (2015). Automate the boring stuff with python: practical programming for total beginners. San Francisco: No Starch Press.\n"
   ]
  },
  {
   "cell_type": "markdown",
   "metadata": {},
   "source": [
    "## Appendix"
   ]
  },
  {
   "cell_type": "markdown",
   "metadata": {},
   "source": [
    "[1] - Make sure you've installed Numpy and Matplotlib with !pip install before importing them, or else they'r enot gonna work.\n"
   ]
  }
 ],
 "metadata": {
  "interpreter": {
   "hash": "5c0b7bc5c9bd6ed585469f2a782f7628ddbec92332ffb1d6ec4da7072157ae71"
  },
  "kernelspec": {
   "display_name": "Python 3 (ipykernel)",
   "language": "python",
   "name": "python3"
  },
  "language_info": {
   "codemirror_mode": {
    "name": "ipython",
    "version": 3
   },
   "file_extension": ".py",
   "mimetype": "text/x-python",
   "name": "python",
   "nbconvert_exporter": "python",
   "pygments_lexer": "ipython3",
   "version": "3.10.2"
  }
 },
 "nbformat": 4,
 "nbformat_minor": 4
}
